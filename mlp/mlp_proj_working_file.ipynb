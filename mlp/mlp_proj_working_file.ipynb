{
 "cells": [
  {
   "cell_type": "markdown",
   "metadata": {},
   "source": [
    "## Import Packages // Helper Functions"
   ]
  },
  {
   "cell_type": "code",
   "execution_count": 468,
   "metadata": {},
   "outputs": [],
   "source": [
    "import pandas as pd, sys, re, datetime, time\n",
    "import numpy as np\n",
    "import matplotlib.pyplot as plt\n",
    "import matplotlib.dates as mdates\n",
    "import seaborn as sns\n",
    "from datetime import datetime, timedelta\n",
    "\n",
    "%matplotlib inline"
   ]
  },
  {
   "cell_type": "code",
   "execution_count": 469,
   "metadata": {},
   "outputs": [],
   "source": [
    "def display_all(df):\n",
    "    with pd.option_context(\"display.max_rows\", 1000, \"display.max_columns\", 1000): \n",
    "        display(df)"
   ]
  },
  {
   "cell_type": "markdown",
   "metadata": {},
   "source": [
    "## (A) Data Preparation"
   ]
  },
  {
   "cell_type": "markdown",
   "metadata": {},
   "source": [
    "#### Import Data & Remove Unecessary Columns"
   ]
  },
  {
   "cell_type": "code",
   "execution_count": null,
   "metadata": {},
   "outputs": [],
   "source": [
    "# Read data\n",
    "    url = \"https://aisgaiap.blob.core.windows.net/aiap5-assessment-data/traffic_data.csv\"\n",
    "    df = pd.read_csv(url, parse_dates = ['date_time'])\n",
    "    df.drop('snow_1h', axis = 1, inplace = True)"
   ]
  },
  {
   "cell_type": "markdown",
   "metadata": {},
   "source": [
    "#### Fix granularity of Dataframe"
   ]
  },
  {
   "cell_type": "code",
   "execution_count": 471,
   "metadata": {},
   "outputs": [],
   "source": [
    "df['weather_description'] = df['weather_description'].str.lower()"
   ]
  },
  {
   "cell_type": "code",
   "execution_count": 472,
   "metadata": {},
   "outputs": [],
   "source": [
    "# Get the repeated date_time values\n",
    "rep_date = pd.DataFrame(df['date_time'].value_counts()).reset_index()\n",
    "rep_date = pd.DataFrame(rep_date[rep_date['date_time'] > 1]['index'])\n",
    "rep_date.rename(columns = {'index': 'date_time'}, inplace = True)"
   ]
  },
  {
   "cell_type": "code",
   "execution_count": 473,
   "metadata": {
    "scrolled": true
   },
   "outputs": [],
   "source": [
    "# To ensure concatenation of weather_main strings is done correctly, avoid duplicates\n",
    "df.sort_values(by = 'weather_main', inplace = True)\n",
    "df.reset_index(inplace = True, drop = True)"
   ]
  },
  {
   "cell_type": "code",
   "execution_count": 474,
   "metadata": {},
   "outputs": [],
   "source": [
    "# Concatenation of weather_main and weather_description\n",
    "df_rep = pd.merge(df, rep_date, how = 'inner', on = 'date_time')\n",
    "df_rep_wt_main = pd.DataFrame(df_rep.groupby(df_rep.columns.difference(['weather_main', 'weather_description']).tolist())['weather_main'].apply(lambda x: \"%s\" % ', '.join(x.unique()))).reset_index()\n",
    "df_rep_wt_desc = pd.DataFrame(df_rep.groupby('date_time')['weather_description'].apply(lambda x: \"%s\" % ', '.join(x.unique()))).reset_index()\n",
    "df_rep = pd.merge(df_rep_wt_main, df_rep_wt_desc, how = 'inner', on = 'date_time')"
   ]
  },
  {
   "cell_type": "code",
   "execution_count": 475,
   "metadata": {},
   "outputs": [],
   "source": [
    "# Remove the repeated rows of date_time\n",
    "df.drop_duplicates(subset =['date_time', 'traffic_volume'], keep = False, inplace = True)"
   ]
  },
  {
   "cell_type": "code",
   "execution_count": 476,
   "metadata": {},
   "outputs": [],
   "source": [
    "# Append the new cleaned rows of date_time\n",
    "df = df.append(df_rep, sort = True)"
   ]
  },
  {
   "cell_type": "markdown",
   "metadata": {},
   "source": [
    "#### Extract information from Dates (date_time)"
   ]
  },
  {
   "cell_type": "code",
   "execution_count": 477,
   "metadata": {},
   "outputs": [],
   "source": [
    "def add_datepart(df, date_field, drop=False, time=False, errors=\"raise\"):\n",
    "    fld = df[date_field]\n",
    "    fld_dtype = fld.dtype\n",
    "    if isinstance(fld_dtype, pd.core.dtypes.dtypes.DatetimeTZDtype):\n",
    "        fld_dtype = np.datetime64\n",
    "\n",
    "    if not np.issubdtype(fld_dtype, np.datetime64):\n",
    "        df[date_field] = fld = pd.to_datetime(fld, infer_datetime_format=True, errors=errors)\n",
    "    targ_pre = re.sub('[Dd]ate$', '', date_field)\n",
    "    attr = ['Month', 'Day', 'Hour', 'Date','Weekday']\n",
    "    if time: \n",
    "        attr = attr + ['Hour', 'Minute', 'Second']\n",
    "    for n in attr: \n",
    "        df[targ_pre + n] = getattr(fld.dt, n.lower())\n",
    "    if drop: \n",
    "        df.drop(date_field, axis=1, inplace=True)\n",
    "        \n",
    "add_datepart(df, 'date_time')\n",
    "\n",
    "df['date_timeDate'] =  pd.to_datetime(df['date_timeDate'], format='%Y-%m-%d')"
   ]
  },
  {
   "cell_type": "markdown",
   "metadata": {},
   "source": [
    "#### Prepare Holiday Feature"
   ]
  },
  {
   "cell_type": "code",
   "execution_count": 478,
   "metadata": {},
   "outputs": [],
   "source": [
    "df_hols = df[df['holiday'] != 'None'][['holiday', 'date_timeDate']]\n",
    "\n",
    "df = pd.merge(df, df_hols, how = 'left', on = ['date_timeDate']).drop(columns = 'holiday_x')\n",
    "df.rename(columns = {'holiday_y': 'holiday'}, inplace = True)\n",
    "df['holiday'].fillna('None', inplace = True)"
   ]
  },
  {
   "cell_type": "code",
   "execution_count": 479,
   "metadata": {},
   "outputs": [],
   "source": [
    "df['is_Holiday'] = df['holiday'].apply(lambda x: 1 if x != 'None' else 0)"
   ]
  },
  {
   "cell_type": "code",
   "execution_count": 480,
   "metadata": {},
   "outputs": [],
   "source": [
    "df_holiday = df[df['is_Holiday'] == 1][['holiday', 'date_timeDate']].drop_duplicates()\n",
    "\n",
    "post = pd.DataFrame(df_holiday['date_timeDate'] + timedelta(days = 1))\n",
    "post['prepost_holiday'] = 'Post '+ df_holiday['holiday']\n",
    "post['is_prepost_hols'] = 2\n",
    "pre = pd.DataFrame(df_holiday['date_timeDate'] + timedelta(days = -1))\n",
    "pre['prepost_holiday'] = 'Pre '+ df_holiday['holiday']\n",
    "pre['is_prepost_hols'] = 1\n",
    "hols = pre.append(post, ignore_index = True)\n",
    "\n",
    "df = pd.merge(df, hols, how = 'left', on = ['date_timeDate'])\n",
    "df['prepost_holiday'].fillna('None', inplace = True)\n",
    "df['is_prepost_hols'].fillna(0, inplace = True)"
   ]
  },
  {
   "cell_type": "markdown",
   "metadata": {},
   "source": [
    "#### Prepare Categorical Features - to be encoded"
   ]
  },
  {
   "cell_type": "code",
   "execution_count": 481,
   "metadata": {},
   "outputs": [],
   "source": [
    "df_cat = df[['date_time', 'weather_main', 'holiday']]\n",
    "df_cat_encoded = pd.get_dummies(df_cat)\n",
    "df = pd.merge(df, df_cat_encoded, how = 'inner', on = ['date_time'])"
   ]
  },
  {
   "cell_type": "markdown",
   "metadata": {},
   "source": [
    "#### Drop Unecessary Features for final dataframe"
   ]
  },
  {
   "cell_type": "code",
   "execution_count": 482,
   "metadata": {},
   "outputs": [],
   "source": [
    "df.drop(columns = ['weather_main', 'weather_description', 'holiday', 'prepost_holiday', 'date_time', 'date_timeDate'], inplace = True)"
   ]
  },
  {
   "cell_type": "code",
   "execution_count": 483,
   "metadata": {},
   "outputs": [
    {
     "data": {
      "text/plain": [
       "(7294, 68)"
      ]
     },
     "execution_count": 483,
     "metadata": {},
     "output_type": "execute_result"
    }
   ],
   "source": [
    "df.shape"
   ]
  },
  {
   "cell_type": "code",
   "execution_count": 484,
   "metadata": {},
   "outputs": [
    {
     "data": {
      "text/html": [
       "<div>\n",
       "<style scoped>\n",
       "    .dataframe tbody tr th:only-of-type {\n",
       "        vertical-align: middle;\n",
       "    }\n",
       "\n",
       "    .dataframe tbody tr th {\n",
       "        vertical-align: top;\n",
       "    }\n",
       "\n",
       "    .dataframe thead th {\n",
       "        text-align: right;\n",
       "    }\n",
       "</style>\n",
       "<table border=\"1\" class=\"dataframe\">\n",
       "  <thead>\n",
       "    <tr style=\"text-align: right;\">\n",
       "      <th></th>\n",
       "      <th>clouds_all</th>\n",
       "      <th>rain_1h</th>\n",
       "      <th>temp</th>\n",
       "      <th>traffic_volume</th>\n",
       "      <th>date_timeMonth</th>\n",
       "      <th>date_timeDay</th>\n",
       "      <th>date_timeHour</th>\n",
       "      <th>date_timeWeekday</th>\n",
       "      <th>is_Holiday</th>\n",
       "      <th>is_prepost_hols</th>\n",
       "      <th>weather_main_Clear</th>\n",
       "      <th>weather_main_Clouds</th>\n",
       "      <th>weather_main_Drizzle</th>\n",
       "      <th>weather_main_Drizzle, Fog, Mist</th>\n",
       "      <th>weather_main_Drizzle, Fog, Mist, Rain</th>\n",
       "      <th>weather_main_Drizzle, Fog, Mist, Rain, Snow</th>\n",
       "      <th>weather_main_Drizzle, Fog, Rain, Thunderstorm</th>\n",
       "      <th>weather_main_Drizzle, Haze, Mist, Rain</th>\n",
       "      <th>weather_main_Drizzle, Mist</th>\n",
       "      <th>weather_main_Drizzle, Mist, Rain</th>\n",
       "      <th>weather_main_Drizzle, Mist, Rain, Snow</th>\n",
       "      <th>weather_main_Drizzle, Mist, Snow</th>\n",
       "      <th>weather_main_Drizzle, Rain</th>\n",
       "      <th>weather_main_Fog</th>\n",
       "      <th>weather_main_Fog, Haze</th>\n",
       "      <th>weather_main_Fog, Haze, Mist</th>\n",
       "      <th>weather_main_Fog, Haze, Mist, Rain, Snow</th>\n",
       "      <th>weather_main_Fog, Haze, Mist, Snow</th>\n",
       "      <th>weather_main_Fog, Mist</th>\n",
       "      <th>weather_main_Fog, Mist, Rain</th>\n",
       "      <th>weather_main_Fog, Mist, Rain, Snow</th>\n",
       "      <th>weather_main_Fog, Mist, Snow</th>\n",
       "      <th>weather_main_Fog, Mist, Snow, Thunderstorm</th>\n",
       "      <th>weather_main_Fog, Snow</th>\n",
       "      <th>weather_main_Haze</th>\n",
       "      <th>weather_main_Haze, Mist</th>\n",
       "      <th>weather_main_Haze, Mist, Rain</th>\n",
       "      <th>weather_main_Haze, Mist, Rain, Snow</th>\n",
       "      <th>weather_main_Haze, Mist, Snow</th>\n",
       "      <th>weather_main_Haze, Mist, Thunderstorm</th>\n",
       "      <th>weather_main_Haze, Rain</th>\n",
       "      <th>weather_main_Haze, Rain, Snow</th>\n",
       "      <th>weather_main_Haze, Snow</th>\n",
       "      <th>weather_main_Mist</th>\n",
       "      <th>weather_main_Mist, Rain</th>\n",
       "      <th>weather_main_Mist, Rain, Snow</th>\n",
       "      <th>weather_main_Mist, Rain, Squall, Thunderstorm</th>\n",
       "      <th>weather_main_Mist, Rain, Thunderstorm</th>\n",
       "      <th>weather_main_Mist, Snow</th>\n",
       "      <th>weather_main_Mist, Thunderstorm</th>\n",
       "      <th>weather_main_Rain</th>\n",
       "      <th>weather_main_Rain, Snow</th>\n",
       "      <th>weather_main_Rain, Squall, Thunderstorm</th>\n",
       "      <th>weather_main_Rain, Thunderstorm</th>\n",
       "      <th>weather_main_Snow</th>\n",
       "      <th>weather_main_Squall</th>\n",
       "      <th>weather_main_Thunderstorm</th>\n",
       "      <th>holiday_Christmas Day</th>\n",
       "      <th>holiday_Columbus Day</th>\n",
       "      <th>holiday_Independence Day</th>\n",
       "      <th>holiday_Labor Day</th>\n",
       "      <th>holiday_Memorial Day</th>\n",
       "      <th>holiday_New Years Day</th>\n",
       "      <th>holiday_None</th>\n",
       "      <th>holiday_State Fair</th>\n",
       "      <th>holiday_Thanksgiving Day</th>\n",
       "      <th>holiday_Veterans Day</th>\n",
       "      <th>holiday_Washingtons Birthday</th>\n",
       "    </tr>\n",
       "  </thead>\n",
       "  <tbody>\n",
       "    <tr>\n",
       "      <th>0</th>\n",
       "      <td>1</td>\n",
       "      <td>0.0</td>\n",
       "      <td>276.10</td>\n",
       "      <td>4502</td>\n",
       "      <td>3</td>\n",
       "      <td>24</td>\n",
       "      <td>15</td>\n",
       "      <td>6</td>\n",
       "      <td>0</td>\n",
       "      <td>0.0</td>\n",
       "      <td>1</td>\n",
       "      <td>0</td>\n",
       "      <td>0</td>\n",
       "      <td>0</td>\n",
       "      <td>0</td>\n",
       "      <td>0</td>\n",
       "      <td>0</td>\n",
       "      <td>0</td>\n",
       "      <td>0</td>\n",
       "      <td>0</td>\n",
       "      <td>0</td>\n",
       "      <td>0</td>\n",
       "      <td>0</td>\n",
       "      <td>0</td>\n",
       "      <td>0</td>\n",
       "      <td>0</td>\n",
       "      <td>0</td>\n",
       "      <td>0</td>\n",
       "      <td>0</td>\n",
       "      <td>0</td>\n",
       "      <td>0</td>\n",
       "      <td>0</td>\n",
       "      <td>0</td>\n",
       "      <td>0</td>\n",
       "      <td>0</td>\n",
       "      <td>0</td>\n",
       "      <td>0</td>\n",
       "      <td>0</td>\n",
       "      <td>0</td>\n",
       "      <td>0</td>\n",
       "      <td>0</td>\n",
       "      <td>0</td>\n",
       "      <td>0</td>\n",
       "      <td>0</td>\n",
       "      <td>0</td>\n",
       "      <td>0</td>\n",
       "      <td>0</td>\n",
       "      <td>0</td>\n",
       "      <td>0</td>\n",
       "      <td>0</td>\n",
       "      <td>0</td>\n",
       "      <td>0</td>\n",
       "      <td>0</td>\n",
       "      <td>0</td>\n",
       "      <td>0</td>\n",
       "      <td>0</td>\n",
       "      <td>0</td>\n",
       "      <td>0</td>\n",
       "      <td>0</td>\n",
       "      <td>0</td>\n",
       "      <td>0</td>\n",
       "      <td>0</td>\n",
       "      <td>0</td>\n",
       "      <td>1</td>\n",
       "      <td>0</td>\n",
       "      <td>0</td>\n",
       "      <td>0</td>\n",
       "      <td>0</td>\n",
       "    </tr>\n",
       "    <tr>\n",
       "      <th>1</th>\n",
       "      <td>0</td>\n",
       "      <td>0.0</td>\n",
       "      <td>302.76</td>\n",
       "      <td>2787</td>\n",
       "      <td>8</td>\n",
       "      <td>27</td>\n",
       "      <td>21</td>\n",
       "      <td>1</td>\n",
       "      <td>0</td>\n",
       "      <td>0.0</td>\n",
       "      <td>1</td>\n",
       "      <td>0</td>\n",
       "      <td>0</td>\n",
       "      <td>0</td>\n",
       "      <td>0</td>\n",
       "      <td>0</td>\n",
       "      <td>0</td>\n",
       "      <td>0</td>\n",
       "      <td>0</td>\n",
       "      <td>0</td>\n",
       "      <td>0</td>\n",
       "      <td>0</td>\n",
       "      <td>0</td>\n",
       "      <td>0</td>\n",
       "      <td>0</td>\n",
       "      <td>0</td>\n",
       "      <td>0</td>\n",
       "      <td>0</td>\n",
       "      <td>0</td>\n",
       "      <td>0</td>\n",
       "      <td>0</td>\n",
       "      <td>0</td>\n",
       "      <td>0</td>\n",
       "      <td>0</td>\n",
       "      <td>0</td>\n",
       "      <td>0</td>\n",
       "      <td>0</td>\n",
       "      <td>0</td>\n",
       "      <td>0</td>\n",
       "      <td>0</td>\n",
       "      <td>0</td>\n",
       "      <td>0</td>\n",
       "      <td>0</td>\n",
       "      <td>0</td>\n",
       "      <td>0</td>\n",
       "      <td>0</td>\n",
       "      <td>0</td>\n",
       "      <td>0</td>\n",
       "      <td>0</td>\n",
       "      <td>0</td>\n",
       "      <td>0</td>\n",
       "      <td>0</td>\n",
       "      <td>0</td>\n",
       "      <td>0</td>\n",
       "      <td>0</td>\n",
       "      <td>0</td>\n",
       "      <td>0</td>\n",
       "      <td>0</td>\n",
       "      <td>0</td>\n",
       "      <td>0</td>\n",
       "      <td>0</td>\n",
       "      <td>0</td>\n",
       "      <td>0</td>\n",
       "      <td>1</td>\n",
       "      <td>0</td>\n",
       "      <td>0</td>\n",
       "      <td>0</td>\n",
       "      <td>0</td>\n",
       "    </tr>\n",
       "    <tr>\n",
       "      <th>2</th>\n",
       "      <td>8</td>\n",
       "      <td>0.0</td>\n",
       "      <td>306.79</td>\n",
       "      <td>6653</td>\n",
       "      <td>8</td>\n",
       "      <td>27</td>\n",
       "      <td>16</td>\n",
       "      <td>1</td>\n",
       "      <td>0</td>\n",
       "      <td>0.0</td>\n",
       "      <td>1</td>\n",
       "      <td>0</td>\n",
       "      <td>0</td>\n",
       "      <td>0</td>\n",
       "      <td>0</td>\n",
       "      <td>0</td>\n",
       "      <td>0</td>\n",
       "      <td>0</td>\n",
       "      <td>0</td>\n",
       "      <td>0</td>\n",
       "      <td>0</td>\n",
       "      <td>0</td>\n",
       "      <td>0</td>\n",
       "      <td>0</td>\n",
       "      <td>0</td>\n",
       "      <td>0</td>\n",
       "      <td>0</td>\n",
       "      <td>0</td>\n",
       "      <td>0</td>\n",
       "      <td>0</td>\n",
       "      <td>0</td>\n",
       "      <td>0</td>\n",
       "      <td>0</td>\n",
       "      <td>0</td>\n",
       "      <td>0</td>\n",
       "      <td>0</td>\n",
       "      <td>0</td>\n",
       "      <td>0</td>\n",
       "      <td>0</td>\n",
       "      <td>0</td>\n",
       "      <td>0</td>\n",
       "      <td>0</td>\n",
       "      <td>0</td>\n",
       "      <td>0</td>\n",
       "      <td>0</td>\n",
       "      <td>0</td>\n",
       "      <td>0</td>\n",
       "      <td>0</td>\n",
       "      <td>0</td>\n",
       "      <td>0</td>\n",
       "      <td>0</td>\n",
       "      <td>0</td>\n",
       "      <td>0</td>\n",
       "      <td>0</td>\n",
       "      <td>0</td>\n",
       "      <td>0</td>\n",
       "      <td>0</td>\n",
       "      <td>0</td>\n",
       "      <td>0</td>\n",
       "      <td>0</td>\n",
       "      <td>0</td>\n",
       "      <td>0</td>\n",
       "      <td>0</td>\n",
       "      <td>1</td>\n",
       "      <td>0</td>\n",
       "      <td>0</td>\n",
       "      <td>0</td>\n",
       "      <td>0</td>\n",
       "    </tr>\n",
       "    <tr>\n",
       "      <th>3</th>\n",
       "      <td>8</td>\n",
       "      <td>0.0</td>\n",
       "      <td>306.24</td>\n",
       "      <td>5883</td>\n",
       "      <td>8</td>\n",
       "      <td>27</td>\n",
       "      <td>14</td>\n",
       "      <td>1</td>\n",
       "      <td>0</td>\n",
       "      <td>0.0</td>\n",
       "      <td>1</td>\n",
       "      <td>0</td>\n",
       "      <td>0</td>\n",
       "      <td>0</td>\n",
       "      <td>0</td>\n",
       "      <td>0</td>\n",
       "      <td>0</td>\n",
       "      <td>0</td>\n",
       "      <td>0</td>\n",
       "      <td>0</td>\n",
       "      <td>0</td>\n",
       "      <td>0</td>\n",
       "      <td>0</td>\n",
       "      <td>0</td>\n",
       "      <td>0</td>\n",
       "      <td>0</td>\n",
       "      <td>0</td>\n",
       "      <td>0</td>\n",
       "      <td>0</td>\n",
       "      <td>0</td>\n",
       "      <td>0</td>\n",
       "      <td>0</td>\n",
       "      <td>0</td>\n",
       "      <td>0</td>\n",
       "      <td>0</td>\n",
       "      <td>0</td>\n",
       "      <td>0</td>\n",
       "      <td>0</td>\n",
       "      <td>0</td>\n",
       "      <td>0</td>\n",
       "      <td>0</td>\n",
       "      <td>0</td>\n",
       "      <td>0</td>\n",
       "      <td>0</td>\n",
       "      <td>0</td>\n",
       "      <td>0</td>\n",
       "      <td>0</td>\n",
       "      <td>0</td>\n",
       "      <td>0</td>\n",
       "      <td>0</td>\n",
       "      <td>0</td>\n",
       "      <td>0</td>\n",
       "      <td>0</td>\n",
       "      <td>0</td>\n",
       "      <td>0</td>\n",
       "      <td>0</td>\n",
       "      <td>0</td>\n",
       "      <td>0</td>\n",
       "      <td>0</td>\n",
       "      <td>0</td>\n",
       "      <td>0</td>\n",
       "      <td>0</td>\n",
       "      <td>0</td>\n",
       "      <td>1</td>\n",
       "      <td>0</td>\n",
       "      <td>0</td>\n",
       "      <td>0</td>\n",
       "      <td>0</td>\n",
       "    </tr>\n",
       "    <tr>\n",
       "      <th>4</th>\n",
       "      <td>0</td>\n",
       "      <td>0.0</td>\n",
       "      <td>301.02</td>\n",
       "      <td>1133</td>\n",
       "      <td>8</td>\n",
       "      <td>26</td>\n",
       "      <td>23</td>\n",
       "      <td>0</td>\n",
       "      <td>0</td>\n",
       "      <td>0.0</td>\n",
       "      <td>1</td>\n",
       "      <td>0</td>\n",
       "      <td>0</td>\n",
       "      <td>0</td>\n",
       "      <td>0</td>\n",
       "      <td>0</td>\n",
       "      <td>0</td>\n",
       "      <td>0</td>\n",
       "      <td>0</td>\n",
       "      <td>0</td>\n",
       "      <td>0</td>\n",
       "      <td>0</td>\n",
       "      <td>0</td>\n",
       "      <td>0</td>\n",
       "      <td>0</td>\n",
       "      <td>0</td>\n",
       "      <td>0</td>\n",
       "      <td>0</td>\n",
       "      <td>0</td>\n",
       "      <td>0</td>\n",
       "      <td>0</td>\n",
       "      <td>0</td>\n",
       "      <td>0</td>\n",
       "      <td>0</td>\n",
       "      <td>0</td>\n",
       "      <td>0</td>\n",
       "      <td>0</td>\n",
       "      <td>0</td>\n",
       "      <td>0</td>\n",
       "      <td>0</td>\n",
       "      <td>0</td>\n",
       "      <td>0</td>\n",
       "      <td>0</td>\n",
       "      <td>0</td>\n",
       "      <td>0</td>\n",
       "      <td>0</td>\n",
       "      <td>0</td>\n",
       "      <td>0</td>\n",
       "      <td>0</td>\n",
       "      <td>0</td>\n",
       "      <td>0</td>\n",
       "      <td>0</td>\n",
       "      <td>0</td>\n",
       "      <td>0</td>\n",
       "      <td>0</td>\n",
       "      <td>0</td>\n",
       "      <td>0</td>\n",
       "      <td>0</td>\n",
       "      <td>0</td>\n",
       "      <td>0</td>\n",
       "      <td>0</td>\n",
       "      <td>0</td>\n",
       "      <td>0</td>\n",
       "      <td>1</td>\n",
       "      <td>0</td>\n",
       "      <td>0</td>\n",
       "      <td>0</td>\n",
       "      <td>0</td>\n",
       "    </tr>\n",
       "  </tbody>\n",
       "</table>\n",
       "</div>"
      ],
      "text/plain": [
       "   clouds_all  rain_1h    temp  traffic_volume  date_timeMonth  date_timeDay  \\\n",
       "0           1      0.0  276.10            4502               3            24   \n",
       "1           0      0.0  302.76            2787               8            27   \n",
       "2           8      0.0  306.79            6653               8            27   \n",
       "3           8      0.0  306.24            5883               8            27   \n",
       "4           0      0.0  301.02            1133               8            26   \n",
       "\n",
       "   date_timeHour  date_timeWeekday  is_Holiday  is_prepost_hols  \\\n",
       "0             15                 6           0              0.0   \n",
       "1             21                 1           0              0.0   \n",
       "2             16                 1           0              0.0   \n",
       "3             14                 1           0              0.0   \n",
       "4             23                 0           0              0.0   \n",
       "\n",
       "   weather_main_Clear  weather_main_Clouds  weather_main_Drizzle  \\\n",
       "0                   1                    0                     0   \n",
       "1                   1                    0                     0   \n",
       "2                   1                    0                     0   \n",
       "3                   1                    0                     0   \n",
       "4                   1                    0                     0   \n",
       "\n",
       "   weather_main_Drizzle, Fog, Mist  weather_main_Drizzle, Fog, Mist, Rain  \\\n",
       "0                                0                                      0   \n",
       "1                                0                                      0   \n",
       "2                                0                                      0   \n",
       "3                                0                                      0   \n",
       "4                                0                                      0   \n",
       "\n",
       "   weather_main_Drizzle, Fog, Mist, Rain, Snow  \\\n",
       "0                                            0   \n",
       "1                                            0   \n",
       "2                                            0   \n",
       "3                                            0   \n",
       "4                                            0   \n",
       "\n",
       "   weather_main_Drizzle, Fog, Rain, Thunderstorm  \\\n",
       "0                                              0   \n",
       "1                                              0   \n",
       "2                                              0   \n",
       "3                                              0   \n",
       "4                                              0   \n",
       "\n",
       "   weather_main_Drizzle, Haze, Mist, Rain  weather_main_Drizzle, Mist  \\\n",
       "0                                       0                           0   \n",
       "1                                       0                           0   \n",
       "2                                       0                           0   \n",
       "3                                       0                           0   \n",
       "4                                       0                           0   \n",
       "\n",
       "   weather_main_Drizzle, Mist, Rain  weather_main_Drizzle, Mist, Rain, Snow  \\\n",
       "0                                 0                                       0   \n",
       "1                                 0                                       0   \n",
       "2                                 0                                       0   \n",
       "3                                 0                                       0   \n",
       "4                                 0                                       0   \n",
       "\n",
       "   weather_main_Drizzle, Mist, Snow  weather_main_Drizzle, Rain  \\\n",
       "0                                 0                           0   \n",
       "1                                 0                           0   \n",
       "2                                 0                           0   \n",
       "3                                 0                           0   \n",
       "4                                 0                           0   \n",
       "\n",
       "   weather_main_Fog  weather_main_Fog, Haze  weather_main_Fog, Haze, Mist  \\\n",
       "0                 0                       0                             0   \n",
       "1                 0                       0                             0   \n",
       "2                 0                       0                             0   \n",
       "3                 0                       0                             0   \n",
       "4                 0                       0                             0   \n",
       "\n",
       "   weather_main_Fog, Haze, Mist, Rain, Snow  \\\n",
       "0                                         0   \n",
       "1                                         0   \n",
       "2                                         0   \n",
       "3                                         0   \n",
       "4                                         0   \n",
       "\n",
       "   weather_main_Fog, Haze, Mist, Snow  weather_main_Fog, Mist  \\\n",
       "0                                   0                       0   \n",
       "1                                   0                       0   \n",
       "2                                   0                       0   \n",
       "3                                   0                       0   \n",
       "4                                   0                       0   \n",
       "\n",
       "   weather_main_Fog, Mist, Rain  weather_main_Fog, Mist, Rain, Snow  \\\n",
       "0                             0                                   0   \n",
       "1                             0                                   0   \n",
       "2                             0                                   0   \n",
       "3                             0                                   0   \n",
       "4                             0                                   0   \n",
       "\n",
       "   weather_main_Fog, Mist, Snow  weather_main_Fog, Mist, Snow, Thunderstorm  \\\n",
       "0                             0                                           0   \n",
       "1                             0                                           0   \n",
       "2                             0                                           0   \n",
       "3                             0                                           0   \n",
       "4                             0                                           0   \n",
       "\n",
       "   weather_main_Fog, Snow  weather_main_Haze  weather_main_Haze, Mist  \\\n",
       "0                       0                  0                        0   \n",
       "1                       0                  0                        0   \n",
       "2                       0                  0                        0   \n",
       "3                       0                  0                        0   \n",
       "4                       0                  0                        0   \n",
       "\n",
       "   weather_main_Haze, Mist, Rain  weather_main_Haze, Mist, Rain, Snow  \\\n",
       "0                              0                                    0   \n",
       "1                              0                                    0   \n",
       "2                              0                                    0   \n",
       "3                              0                                    0   \n",
       "4                              0                                    0   \n",
       "\n",
       "   weather_main_Haze, Mist, Snow  weather_main_Haze, Mist, Thunderstorm  \\\n",
       "0                              0                                      0   \n",
       "1                              0                                      0   \n",
       "2                              0                                      0   \n",
       "3                              0                                      0   \n",
       "4                              0                                      0   \n",
       "\n",
       "   weather_main_Haze, Rain  weather_main_Haze, Rain, Snow  \\\n",
       "0                        0                              0   \n",
       "1                        0                              0   \n",
       "2                        0                              0   \n",
       "3                        0                              0   \n",
       "4                        0                              0   \n",
       "\n",
       "   weather_main_Haze, Snow  weather_main_Mist  weather_main_Mist, Rain  \\\n",
       "0                        0                  0                        0   \n",
       "1                        0                  0                        0   \n",
       "2                        0                  0                        0   \n",
       "3                        0                  0                        0   \n",
       "4                        0                  0                        0   \n",
       "\n",
       "   weather_main_Mist, Rain, Snow  \\\n",
       "0                              0   \n",
       "1                              0   \n",
       "2                              0   \n",
       "3                              0   \n",
       "4                              0   \n",
       "\n",
       "   weather_main_Mist, Rain, Squall, Thunderstorm  \\\n",
       "0                                              0   \n",
       "1                                              0   \n",
       "2                                              0   \n",
       "3                                              0   \n",
       "4                                              0   \n",
       "\n",
       "   weather_main_Mist, Rain, Thunderstorm  weather_main_Mist, Snow  \\\n",
       "0                                      0                        0   \n",
       "1                                      0                        0   \n",
       "2                                      0                        0   \n",
       "3                                      0                        0   \n",
       "4                                      0                        0   \n",
       "\n",
       "   weather_main_Mist, Thunderstorm  weather_main_Rain  \\\n",
       "0                                0                  0   \n",
       "1                                0                  0   \n",
       "2                                0                  0   \n",
       "3                                0                  0   \n",
       "4                                0                  0   \n",
       "\n",
       "   weather_main_Rain, Snow  weather_main_Rain, Squall, Thunderstorm  \\\n",
       "0                        0                                        0   \n",
       "1                        0                                        0   \n",
       "2                        0                                        0   \n",
       "3                        0                                        0   \n",
       "4                        0                                        0   \n",
       "\n",
       "   weather_main_Rain, Thunderstorm  weather_main_Snow  weather_main_Squall  \\\n",
       "0                                0                  0                    0   \n",
       "1                                0                  0                    0   \n",
       "2                                0                  0                    0   \n",
       "3                                0                  0                    0   \n",
       "4                                0                  0                    0   \n",
       "\n",
       "   weather_main_Thunderstorm  holiday_Christmas Day  holiday_Columbus Day  \\\n",
       "0                          0                      0                     0   \n",
       "1                          0                      0                     0   \n",
       "2                          0                      0                     0   \n",
       "3                          0                      0                     0   \n",
       "4                          0                      0                     0   \n",
       "\n",
       "   holiday_Independence Day  holiday_Labor Day  holiday_Memorial Day  \\\n",
       "0                         0                  0                     0   \n",
       "1                         0                  0                     0   \n",
       "2                         0                  0                     0   \n",
       "3                         0                  0                     0   \n",
       "4                         0                  0                     0   \n",
       "\n",
       "   holiday_New Years Day  holiday_None  holiday_State Fair  \\\n",
       "0                      0             1                   0   \n",
       "1                      0             1                   0   \n",
       "2                      0             1                   0   \n",
       "3                      0             1                   0   \n",
       "4                      0             1                   0   \n",
       "\n",
       "   holiday_Thanksgiving Day  holiday_Veterans Day  \\\n",
       "0                         0                     0   \n",
       "1                         0                     0   \n",
       "2                         0                     0   \n",
       "3                         0                     0   \n",
       "4                         0                     0   \n",
       "\n",
       "   holiday_Washingtons Birthday  \n",
       "0                             0  \n",
       "1                             0  \n",
       "2                             0  \n",
       "3                             0  \n",
       "4                             0  "
      ]
     },
     "metadata": {},
     "output_type": "display_data"
    }
   ],
   "source": [
    "display_all(df.head())"
   ]
  },
  {
   "cell_type": "markdown",
   "metadata": {},
   "source": [
    "## (B) Modelling"
   ]
  },
  {
   "cell_type": "code",
   "execution_count": 515,
   "metadata": {},
   "outputs": [],
   "source": [
    "from sklearn.model_selection import train_test_split\n",
    "from sklearn.ensemble import RandomForestRegressor\n",
    "from sklearn import metrics\n",
    "import math"
   ]
  },
  {
   "cell_type": "code",
   "execution_count": 516,
   "metadata": {},
   "outputs": [],
   "source": [
    "X = df.drop('traffic_volume', axis=1)\n",
    "y = df['traffic_volume']"
   ]
  },
  {
   "cell_type": "code",
   "execution_count": 517,
   "metadata": {},
   "outputs": [],
   "source": [
    "X_train, X_test, y_train, y_test = train_test_split(X, y, test_size=0.3, random_state=10)"
   ]
  },
  {
   "cell_type": "code",
   "execution_count": 518,
   "metadata": {},
   "outputs": [],
   "source": [
    "X_train, X_valid, y_train, y_valid = train_test_split(X_train, y_train, test_size=0.2, random_state=10)"
   ]
  },
  {
   "cell_type": "code",
   "execution_count": 520,
   "metadata": {},
   "outputs": [
    {
     "name": "stdout",
     "output_type": "stream",
     "text": [
      "(7294, 67)\n",
      "(4084, 67)\n",
      "(2189, 67)\n",
      "(1021, 67)\n"
     ]
    }
   ],
   "source": [
    "print(X.shape)\n",
    "print(X_train.shape)\n",
    "print(X_test.shape)\n",
    "print(X_valid.shape)"
   ]
  },
  {
   "cell_type": "markdown",
   "metadata": {},
   "source": [
    "### Feature Selection"
   ]
  },
  {
   "cell_type": "markdown",
   "metadata": {},
   "source": [
    "#### Base Model"
   ]
  },
  {
   "cell_type": "code",
   "execution_count": 527,
   "metadata": {},
   "outputs": [
    {
     "name": "stderr",
     "output_type": "stream",
     "text": [
      "/Users/khalishahnadhirah/anaconda3/lib/python3.7/site-packages/sklearn/ensemble/forest.py:245: FutureWarning: The default value of n_estimators will change from 10 in version 0.20 to 100 in 0.22.\n",
      "  \"10 in version 0.20 to 100 in 0.22.\", FutureWarning)\n"
     ]
    },
    {
     "data": {
      "text/plain": [
       "RandomForestRegressor(bootstrap=True, criterion='mse', max_depth=None,\n",
       "                      max_features='auto', max_leaf_nodes=None,\n",
       "                      min_impurity_decrease=0.0, min_impurity_split=None,\n",
       "                      min_samples_leaf=1, min_samples_split=2,\n",
       "                      min_weight_fraction_leaf=0.0, n_estimators=10, n_jobs=-1,\n",
       "                      oob_score=False, random_state=None, verbose=0,\n",
       "                      warm_start=False)"
      ]
     },
     "execution_count": 527,
     "metadata": {},
     "output_type": "execute_result"
    }
   ],
   "source": [
    "model = RandomForestRegressor(n_jobs=-1)\n",
    "model.fit(X_train, y_train)"
   ]
  },
  {
   "cell_type": "code",
   "execution_count": 528,
   "metadata": {},
   "outputs": [],
   "source": [
    "def rmse(x,y): return math.sqrt(((x-y)**2).mean())\n",
    "def print_score(m):\n",
    "    res = [rmse(m.predict(X_train), y_train), rmse(m.predict(X_valid), y_valid),\n",
    "                m.score(X_train, y_train), m.score(X_valid, y_valid)]\n",
    "    if hasattr(m, 'oob_score_'): res.append(m.oob_score_)\n",
    "    print(res)\n",
    "    print('\\nRoot Mean Squared Error of Predicted and Actual in on Training Set: '+ str(res[0]))\n",
    "    print('Root Mean Squared Error of Predicted and Actual in Validation Set: '+ str(res[1]))\n",
    "    print('R Squared score using Training Set: '+ str(res[2]))\n",
    "    print('R Squared score using Validation Set: '+ str(res[3]))"
   ]
  },
  {
   "cell_type": "code",
   "execution_count": 529,
   "metadata": {},
   "outputs": [
    {
     "name": "stdout",
     "output_type": "stream",
     "text": [
      "[167.90205426423708, 350.2797316034487, 0.9930380263726241, 0.9705774428639135]\n",
      "\n",
      "Root Mean Squared Error of Predicted and Actual in on Training Set: 167.90205426423708\n",
      "Root Mean Squared Error of Predicted and Actual in Validation Set: 350.2797316034487\n",
      "R Squared score using Training Set: 0.9930380263726241\n",
      "R Squared score using Validation Set: 0.9705774428639135\n"
     ]
    }
   ],
   "source": [
    "print_score(model)"
   ]
  },
  {
   "cell_type": "markdown",
   "metadata": {},
   "source": [
    "#### Correlation Analysis"
   ]
  },
  {
   "cell_type": "code",
   "execution_count": 563,
   "metadata": {
    "scrolled": false
   },
   "outputs": [
    {
     "data": {
      "text/plain": [
       "<matplotlib.axes._subplots.AxesSubplot at 0x1a219242b0>"
      ]
     },
     "execution_count": 563,
     "metadata": {},
     "output_type": "execute_result"
    },
    {
     "data": {
      "image/png": "[encoded data removed]",
      "text/plain": [
       "<Figure size 720x1440 with 2 Axes>"
      ]
     },
     "metadata": {
      "needs_background": "light"
     },
     "output_type": "display_data"
    }
   ],
   "source": [
    "plt.figure(figsize=(10,20))\n",
    "sns.heatmap(pd.DataFrame(df.corr()['traffic_volume']).sort_values(by = 'traffic_volume', ascending = False), cmap=\"YlGnBu\")"
   ]
  },
  {
   "cell_type": "markdown",
   "metadata": {},
   "source": [
    "#### Feature Importance"
   ]
  },
  {
   "cell_type": "code",
   "execution_count": 494,
   "metadata": {
    "scrolled": true
   },
   "outputs": [
    {
     "data": {
      "text/html": [
       "<div>\n",
       "<style scoped>\n",
       "    .dataframe tbody tr th:only-of-type {\n",
       "        vertical-align: middle;\n",
       "    }\n",
       "\n",
       "    .dataframe tbody tr th {\n",
       "        vertical-align: top;\n",
       "    }\n",
       "\n",
       "    .dataframe thead th {\n",
       "        text-align: right;\n",
       "    }\n",
       "</style>\n",
       "<table border=\"1\" class=\"dataframe\">\n",
       "  <thead>\n",
       "    <tr style=\"text-align: right;\">\n",
       "      <th></th>\n",
       "      <th>cols</th>\n",
       "      <th>imp</th>\n",
       "    </tr>\n",
       "  </thead>\n",
       "  <tbody>\n",
       "    <tr>\n",
       "      <th>5</th>\n",
       "      <td>date_timeHour</td>\n",
       "      <td>0.827036</td>\n",
       "    </tr>\n",
       "    <tr>\n",
       "      <th>6</th>\n",
       "      <td>date_timeWeekday</td>\n",
       "      <td>0.104198</td>\n",
       "    </tr>\n",
       "    <tr>\n",
       "      <th>2</th>\n",
       "      <td>temp</td>\n",
       "      <td>0.016379</td>\n",
       "    </tr>\n",
       "    <tr>\n",
       "      <th>7</th>\n",
       "      <td>is_Holiday</td>\n",
       "      <td>0.012241</td>\n",
       "    </tr>\n",
       "    <tr>\n",
       "      <th>62</th>\n",
       "      <td>holiday_None</td>\n",
       "      <td>0.009224</td>\n",
       "    </tr>\n",
       "    <tr>\n",
       "      <th>4</th>\n",
       "      <td>date_timeDay</td>\n",
       "      <td>0.008901</td>\n",
       "    </tr>\n",
       "    <tr>\n",
       "      <th>3</th>\n",
       "      <td>date_timeMonth</td>\n",
       "      <td>0.006491</td>\n",
       "    </tr>\n",
       "    <tr>\n",
       "      <th>8</th>\n",
       "      <td>is_prepost_hols</td>\n",
       "      <td>0.002903</td>\n",
       "    </tr>\n",
       "    <tr>\n",
       "      <th>0</th>\n",
       "      <td>clouds_all</td>\n",
       "      <td>0.002687</td>\n",
       "    </tr>\n",
       "    <tr>\n",
       "      <th>63</th>\n",
       "      <td>holiday_State Fair</td>\n",
       "      <td>0.001815</td>\n",
       "    </tr>\n",
       "    <tr>\n",
       "      <th>42</th>\n",
       "      <td>weather_main_Mist</td>\n",
       "      <td>0.001002</td>\n",
       "    </tr>\n",
       "    <tr>\n",
       "      <th>10</th>\n",
       "      <td>weather_main_Clouds</td>\n",
       "      <td>0.000787</td>\n",
       "    </tr>\n",
       "    <tr>\n",
       "      <th>65</th>\n",
       "      <td>holiday_Veterans Day</td>\n",
       "      <td>0.000718</td>\n",
       "    </tr>\n",
       "    <tr>\n",
       "      <th>47</th>\n",
       "      <td>weather_main_Mist, Snow</td>\n",
       "      <td>0.000685</td>\n",
       "    </tr>\n",
       "    <tr>\n",
       "      <th>30</th>\n",
       "      <td>weather_main_Fog, Mist, Snow</td>\n",
       "      <td>0.000652</td>\n",
       "    </tr>\n",
       "    <tr>\n",
       "      <th>53</th>\n",
       "      <td>weather_main_Snow</td>\n",
       "      <td>0.000616</td>\n",
       "    </tr>\n",
       "    <tr>\n",
       "      <th>58</th>\n",
       "      <td>holiday_Independence Day</td>\n",
       "      <td>0.000485</td>\n",
       "    </tr>\n",
       "    <tr>\n",
       "      <th>57</th>\n",
       "      <td>holiday_Columbus Day</td>\n",
       "      <td>0.000438</td>\n",
       "    </tr>\n",
       "    <tr>\n",
       "      <th>9</th>\n",
       "      <td>weather_main_Clear</td>\n",
       "      <td>0.000411</td>\n",
       "    </tr>\n",
       "    <tr>\n",
       "      <th>1</th>\n",
       "      <td>rain_1h</td>\n",
       "      <td>0.000276</td>\n",
       "    </tr>\n",
       "  </tbody>\n",
       "</table>\n",
       "</div>"
      ],
      "text/plain": [
       "                            cols       imp\n",
       "5                  date_timeHour  0.827036\n",
       "6               date_timeWeekday  0.104198\n",
       "2                           temp  0.016379\n",
       "7                     is_Holiday  0.012241\n",
       "62                  holiday_None  0.009224\n",
       "4                   date_timeDay  0.008901\n",
       "3                 date_timeMonth  0.006491\n",
       "8                is_prepost_hols  0.002903\n",
       "0                     clouds_all  0.002687\n",
       "63            holiday_State Fair  0.001815\n",
       "42             weather_main_Mist  0.001002\n",
       "10           weather_main_Clouds  0.000787\n",
       "65          holiday_Veterans Day  0.000718\n",
       "47       weather_main_Mist, Snow  0.000685\n",
       "30  weather_main_Fog, Mist, Snow  0.000652\n",
       "53             weather_main_Snow  0.000616\n",
       "58      holiday_Independence Day  0.000485\n",
       "57          holiday_Columbus Day  0.000438\n",
       "9             weather_main_Clear  0.000411\n",
       "1                        rain_1h  0.000276"
      ]
     },
     "execution_count": 494,
     "metadata": {},
     "output_type": "execute_result"
    }
   ],
   "source": [
    "feat_imp = pd.DataFrame({'cols':X_train.columns, 'imp':model.feature_importances_}).sort_values('imp', ascending=False)\n",
    "feat_imp.head(20)"
   ]
  },
  {
   "cell_type": "code",
   "execution_count": 549,
   "metadata": {},
   "outputs": [
    {
     "data": {
      "text/plain": [
       "23"
      ]
     },
     "execution_count": 549,
     "metadata": {},
     "output_type": "execute_result"
    }
   ],
   "source": [
    "to_keep = feat_imp[feat_imp.imp>0.0002].cols; len(to_keep)"
   ]
  },
  {
   "cell_type": "code",
   "execution_count": 550,
   "metadata": {},
   "outputs": [],
   "source": [
    "X_new = X[to_keep].copy()\n",
    "y = df['traffic_volume']"
   ]
  },
  {
   "cell_type": "code",
   "execution_count": 551,
   "metadata": {},
   "outputs": [],
   "source": [
    "X_train, X_test, y_train, y_test = train_test_split(X_new, y, test_size=0.3, random_state=10)"
   ]
  },
  {
   "cell_type": "code",
   "execution_count": 552,
   "metadata": {},
   "outputs": [],
   "source": [
    "X_train, X_valid, y_train, y_valid = train_test_split(X_train, y_train, test_size=0.2, random_state=10)"
   ]
  },
  {
   "cell_type": "code",
   "execution_count": 553,
   "metadata": {},
   "outputs": [
    {
     "name": "stderr",
     "output_type": "stream",
     "text": [
      "/Users/khalishahnadhirah/anaconda3/lib/python3.7/site-packages/sklearn/ensemble/forest.py:245: FutureWarning: The default value of n_estimators will change from 10 in version 0.20 to 100 in 0.22.\n",
      "  \"10 in version 0.20 to 100 in 0.22.\", FutureWarning)\n"
     ]
    },
    {
     "data": {
      "text/plain": [
       "RandomForestRegressor(bootstrap=True, criterion='mse', max_depth=None,\n",
       "                      max_features='auto', max_leaf_nodes=None,\n",
       "                      min_impurity_decrease=0.0, min_impurity_split=None,\n",
       "                      min_samples_leaf=1, min_samples_split=2,\n",
       "                      min_weight_fraction_leaf=0.0, n_estimators=10, n_jobs=-1,\n",
       "                      oob_score=False, random_state=None, verbose=0,\n",
       "                      warm_start=False)"
      ]
     },
     "execution_count": 553,
     "metadata": {},
     "output_type": "execute_result"
    }
   ],
   "source": [
    "model = RandomForestRegressor(n_jobs=-1)\n",
    "model.fit(X_train, y_train)"
   ]
  },
  {
   "cell_type": "code",
   "execution_count": 554,
   "metadata": {},
   "outputs": [
    {
     "name": "stdout",
     "output_type": "stream",
     "text": [
      "[172.9462252808179, 364.81110067715485, 0.9926134349046045, 0.9680856144028646]\n",
      "\n",
      "Root Mean Squared Error of Predicted and Actual in on Training Set: 172.9462252808179\n",
      "Root Mean Squared Error of Predicted and Actual in Validation Set: 364.81110067715485\n",
      "R Squared score using Training Set: 0.9926134349046045\n",
      "R Squared score using Validation Set: 0.9680856144028646\n"
     ]
    }
   ],
   "source": [
    "print_score(model)"
   ]
  },
  {
   "cell_type": "markdown",
   "metadata": {},
   "source": [
    "Feature Importance and Correaltion analysis did not help in model accuracy for validation set. Hence, we will revert to the base model."
   ]
  },
  {
   "cell_type": "markdown",
   "metadata": {},
   "source": [
    "### Parameter Tuning"
   ]
  },
  {
   "cell_type": "code",
   "execution_count": 564,
   "metadata": {},
   "outputs": [],
   "source": [
    "X = df.drop('traffic_volume', axis=1)\n",
    "y = df['traffic_volume']"
   ]
  },
  {
   "cell_type": "code",
   "execution_count": 565,
   "metadata": {},
   "outputs": [],
   "source": [
    "X_train, X_test, y_train, y_test = train_test_split(X, y, test_size=0.3, random_state=10)"
   ]
  },
  {
   "cell_type": "code",
   "execution_count": 566,
   "metadata": {},
   "outputs": [],
   "source": [
    "X_train, X_valid, y_train, y_valid = train_test_split(X_train, y_train, test_size=0.2, random_state=10)"
   ]
  },
  {
   "cell_type": "code",
   "execution_count": 570,
   "metadata": {},
   "outputs": [
    {
     "name": "stderr",
     "output_type": "stream",
     "text": [
      "/Users/khalishahnadhirah/anaconda3/lib/python3.7/site-packages/sklearn/ensemble/forest.py:245: FutureWarning: The default value of n_estimators will change from 10 in version 0.20 to 100 in 0.22.\n",
      "  \"10 in version 0.20 to 100 in 0.22.\", FutureWarning)\n"
     ]
    },
    {
     "name": "stdout",
     "output_type": "stream",
     "text": [
      "[175.2544585661276, 345.0959517522176, 0.9924149489988568, 0.9714418462259914]\n",
      "\n",
      "Root Mean Squared Error of Predicted and Actual in on Training Set: 175.2544585661276\n",
      "Root Mean Squared Error of Predicted and Actual in Validation Set: 345.0959517522176\n",
      "R Squared score using Training Set: 0.9924149489988568\n",
      "R Squared score using Validation Set: 0.9714418462259914\n"
     ]
    }
   ],
   "source": [
    "m = RandomForestRegressor(n_jobs=-1)\n",
    "m.fit(X_train, y_train)\n",
    "print_score(m)"
   ]
  },
  {
   "cell_type": "markdown",
   "metadata": {},
   "source": [
    "#### - Increase number of trees"
   ]
  },
  {
   "cell_type": "code",
   "execution_count": 567,
   "metadata": {},
   "outputs": [
    {
     "name": "stdout",
     "output_type": "stream",
     "text": [
      "[155.1338285068223, 351.51099920722703, 0.9940566216860546, 0.9703702329745071]\n",
      "\n",
      "Root Mean Squared Error of Predicted and Actual in on Training Set: 155.1338285068223\n",
      "Root Mean Squared Error of Predicted and Actual in Validation Set: 351.51099920722703\n",
      "R Squared score using Training Set: 0.9940566216860546\n",
      "R Squared score using Validation Set: 0.9703702329745071\n"
     ]
    }
   ],
   "source": [
    "m = RandomForestRegressor(n_estimators=20, n_jobs=-1)\n",
    "m.fit(X_train, y_train)\n",
    "print_score(m)"
   ]
  },
  {
   "cell_type": "code",
   "execution_count": 574,
   "metadata": {},
   "outputs": [
    {
     "name": "stdout",
     "output_type": "stream",
     "text": [
      "[147.2769579623972, 343.1560638126134, 0.9946433907781814, 0.9717620117269844]\n",
      "\n",
      "Root Mean Squared Error of Predicted and Actual in on Training Set: 147.2769579623972\n",
      "Root Mean Squared Error of Predicted and Actual in Validation Set: 343.1560638126134\n",
      "R Squared score using Training Set: 0.9946433907781814\n",
      "R Squared score using Validation Set: 0.9717620117269844\n"
     ]
    }
   ],
   "source": [
    "m = RandomForestRegressor(n_estimators=40, n_jobs=-1)\n",
    "m.fit(X_train, y_train)\n",
    "print_score(m)"
   ]
  },
  {
   "cell_type": "markdown",
   "metadata": {},
   "source": [
    "Introduction of 40 trees had improved in accuracy of model."
   ]
  },
  {
   "cell_type": "markdown",
   "metadata": {},
   "source": [
    "#### - Check for over fitting with out-of-bag score"
   ]
  },
  {
   "cell_type": "code",
   "execution_count": 573,
   "metadata": {},
   "outputs": [
    {
     "name": "stdout",
     "output_type": "stream",
     "text": [
      "[147.95138082728317, 345.0586958996111, 0.994594219592253, 0.9714480120528053, 0.9621388798409196]\n",
      "\n",
      "Root Mean Squared Error of Predicted and Actual in on Training Set: 147.95138082728317\n",
      "Root Mean Squared Error of Predicted and Actual in Validation Set: 345.0586958996111\n",
      "R Squared score using Training Set: 0.994594219592253\n",
      "R Squared score using Validation Set: 0.9714480120528053\n"
     ]
    }
   ],
   "source": [
    "m = RandomForestRegressor(n_estimators=40, n_jobs=-1, oob_score=True)\n",
    "m.fit(X_train, y_train)\n",
    "print_score(m)"
   ]
  },
  {
   "cell_type": "markdown",
   "metadata": {},
   "source": [
    "The model did not overfit, hence we will stick with the previous model."
   ]
  },
  {
   "cell_type": "code",
   "execution_count": 575,
   "metadata": {},
   "outputs": [
    {
     "name": "stdout",
     "output_type": "stream",
     "text": [
      "[148.5814713112353, 339.2548344716907, 0.9945480776267888, 0.9724004190120333]\n",
      "\n",
      "Root Mean Squared Error of Predicted and Actual in on Training Set: 148.5814713112353\n",
      "Root Mean Squared Error of Predicted and Actual in Validation Set: 339.2548344716907\n",
      "R Squared score using Training Set: 0.9945480776267888\n",
      "R Squared score using Validation Set: 0.9724004190120333\n"
     ]
    }
   ],
   "source": [
    "m = RandomForestRegressor(n_estimators=40, n_jobs=-1)\n",
    "m.fit(X_train, y_train)\n",
    "print_score(m)"
   ]
  },
  {
   "cell_type": "markdown",
   "metadata": {},
   "source": [
    "### Scoring"
   ]
  },
  {
   "cell_type": "code",
   "execution_count": 576,
   "metadata": {},
   "outputs": [
    {
     "data": {
      "text/plain": [
       "346.03682655182723"
      ]
     },
     "execution_count": 576,
     "metadata": {},
     "output_type": "execute_result"
    }
   ],
   "source": [
    "rmse(m.predict(X_test), y_test)"
   ]
  },
  {
   "cell_type": "code",
   "execution_count": 577,
   "metadata": {},
   "outputs": [
    {
     "data": {
      "text/plain": [
       "0.9717052138526456"
      ]
     },
     "execution_count": 577,
     "metadata": {},
     "output_type": "execute_result"
    }
   ],
   "source": [
    "m.score(X_test, y_test)"
   ]
  },
  {
   "cell_type": "markdown",
   "metadata": {},
   "source": [
    "## (C) Final Modules"
   ]
  },
  {
   "cell_type": "code",
   "execution_count": 579,
   "metadata": {
    "scrolled": true
   },
   "outputs": [],
   "source": [
    "def data_prep():\n",
    "    import pandas as pd, sys, re, datetime, time\n",
    "    import numpy as np\n",
    "    import matplotlib.pyplot as plt\n",
    "    import matplotlib.dates as mdates\n",
    "    import seaborn as sns\n",
    "    from datetime import datetime, timedelta\n",
    "\n",
    "    %matplotlib inline\n",
    "    \n",
    "    # Read data\n",
    "    url = \"https://aisgaiap.blob.core.windows.net/aiap5-assessment-data/traffic_data.csv\"\n",
    "    df = pd.read_csv(url, parse_dates = ['date_time'])\n",
    "    df.drop('snow_1h', axis = 1, inplace = True)\n",
    "    \n",
    "    # Fix weather_description\n",
    "    df['weather_description'] = df['weather_description'].str.lower()\n",
    "    \n",
    "    # Get the repeated date_time values\n",
    "    rep_date = pd.DataFrame(df['date_time'].value_counts()).reset_index()\n",
    "    rep_date = pd.DataFrame(rep_date[rep_date['date_time'] > 1]['index'])\n",
    "    rep_date.rename(columns = {'index': 'date_time'}, inplace = True)\n",
    "    \n",
    "    # To ensure concatenation of weather_main strings is done correctly, avoid duplicates\n",
    "    df.sort_values(by = 'weather_main', inplace = True)\n",
    "    df.reset_index(inplace = True, drop = True)\n",
    "    \n",
    "    # Concatenation of weather_main and weather_description\n",
    "    df_rep = pd.merge(df, rep_date, how = 'inner', on = 'date_time')\n",
    "    df_rep_wt_main = pd.DataFrame(df_rep.groupby(df_rep.columns.difference(['weather_main', 'weather_description']).tolist())['weather_main'].apply(lambda x: \"%s\" % ', '.join(x.unique()))).reset_index()\n",
    "    df_rep_wt_desc = pd.DataFrame(df_rep.groupby('date_time')['weather_description'].apply(lambda x: \"%s\" % ', '.join(x.unique()))).reset_index()\n",
    "    df_rep = pd.merge(df_rep_wt_main, df_rep_wt_desc, how = 'inner', on = 'date_time')\n",
    "    \n",
    "    # Remove the repeated rows of date_time\n",
    "    df.drop_duplicates(subset =['date_time', 'traffic_volume'], keep = False, inplace = True)\n",
    "    \n",
    "    # Append the new cleaned rows of date_time\n",
    "    df = df.append(df_rep, sort = True)\n",
    "    \n",
    "    # Extract date features from date_time\n",
    "    def add_datepart(df, date_field, drop=False, time=False, errors=\"raise\"):\n",
    "        fld = df[date_field]\n",
    "        fld_dtype = fld.dtype\n",
    "        if isinstance(fld_dtype, pd.core.dtypes.dtypes.DatetimeTZDtype):\n",
    "            fld_dtype = np.datetime64\n",
    "    \n",
    "        if not np.issubdtype(fld_dtype, np.datetime64):\n",
    "            df[date_field] = fld = pd.to_datetime(fld, infer_datetime_format=True, errors=errors)\n",
    "        targ_pre = re.sub('[Dd]ate$', '', date_field)\n",
    "        attr = ['Month', 'Day', 'Hour', 'Date','Weekday']\n",
    "        if time: \n",
    "            attr = attr + ['Hour', 'Minute', 'Second']\n",
    "        for n in attr: \n",
    "            df[targ_pre + n] = getattr(fld.dt, n.lower())\n",
    "        if drop: \n",
    "            df.drop(date_field, axis=1, inplace=True)\n",
    "        \n",
    "    add_datepart(df, 'date_time')\n",
    "    \n",
    "    # Fix Date data type\n",
    "    df['date_timeDate'] =  pd.to_datetime(df['date_timeDate'], format='%Y-%m-%d')\n",
    "    \n",
    "    # Clean Holiday feature\n",
    "    df_hols = df[df['holiday'] != 'None'][['holiday', 'date_timeDate']]\n",
    "\n",
    "    df = pd.merge(df, df_hols, how = 'left', on = ['date_timeDate']).drop(columns = 'holiday_x')\n",
    "    df.rename(columns = {'holiday_y': 'holiday'}, inplace = True)\n",
    "    df['holiday'].fillna('None', inplace = True)\n",
    "\n",
    "    df['is_Holiday'] = df['holiday'].apply(lambda x: 1 if x != 'None' else 0)\n",
    "\n",
    "    df_holiday = df[df['is_Holiday'] == 1][['holiday', 'date_timeDate']].drop_duplicates()\n",
    "\n",
    "    post = pd.DataFrame(df_holiday['date_timeDate'] + timedelta(days = 1))\n",
    "    post['prepost_holiday'] = 'Post '+ df_holiday['holiday']\n",
    "    post['is_prepost_hols'] = 2\n",
    "    pre = pd.DataFrame(df_holiday['date_timeDate'] + timedelta(days = -1))\n",
    "    pre['prepost_holiday'] = 'Pre '+ df_holiday['holiday']\n",
    "    pre['is_prepost_hols'] = 1\n",
    "    hols = pre.append(post, ignore_index = True)\n",
    "\n",
    "    df = pd.merge(df, hols, how = 'left', on = ['date_timeDate'])\n",
    "    df['prepost_holiday'].fillna('None', inplace = True)\n",
    "    df['is_prepost_hols'].fillna(0, inplace = True)\n",
    "\n",
    "    # Prepare Categorical Features - to be encoded\n",
    "\n",
    "    df_cat = df[['date_time', 'weather_main', 'holiday']]\n",
    "    df_cat_encoded = pd.get_dummies(df_cat)\n",
    "    df = pd.merge(df, df_cat_encoded, how = 'inner', on = ['date_time'])\n",
    "\n",
    "    # Drop Unecessary Features for final dataframe\n",
    "\n",
    "    df.drop(columns = ['weather_main', 'weather_description', 'holiday', 'prepost_holiday', 'date_time', 'date_timeDate'], inplace = True)\n",
    "    \n",
    "    return df"
   ]
  },
  {
   "cell_type": "code",
   "execution_count": 583,
   "metadata": {},
   "outputs": [],
   "source": [
    "def traffic_model(df):\n",
    "    from sklearn.model_selection import train_test_split\n",
    "    from sklearn.ensemble import RandomForestRegressor\n",
    "    from sklearn import metrics\n",
    "    import math\n",
    "    \n",
    "    # Get independent and dependent variable\n",
    "    X = df.drop('traffic_volume', axis=1)\n",
    "    y = df['traffic_volume']\n",
    "    \n",
    "    # Train-test_validation Split\n",
    "    X_train, X_test, y_train, y_test = train_test_split(X, y, test_size=0.3, random_state=10)\n",
    "    X_train, X_valid, y_train, y_valid = train_test_split(X_train, y_train, test_size=0.2, random_state=10)\n",
    "    \n",
    "    # Metrics used to validate: RMSE\n",
    "    def rmse(x,y): return math.sqrt(((x-y)**2).mean())\n",
    "    \n",
    "    # To print scores\n",
    "    def print_score(m):\n",
    "        res = [rmse(m.predict(X_train), y_train), rmse(m.predict(X_valid), y_valid),\n",
    "                    m.score(X_train, y_train), m.score(X_valid, y_valid)]\n",
    "        if hasattr(m, 'oob_score_'): res.append(m.oob_score_)\n",
    "        print('\\nRoot Mean Squared Error of Predicted and Actual in on Training Set: '+ str(res[0]))\n",
    "        print('Root Mean Squared Error of Predicted and Actual in Validation Set: '+ str(res[1]))\n",
    "        print('R Squared score using Training Set: '+ str(res[2]))\n",
    "        print('R Squared score using Validation Set: '+ str(res[3]))\n",
    "    \n",
    "    # Final model\n",
    "    model = RandomForestRegressor(n_estimators=40, n_jobs=-1)\n",
    "    model.fit(X_train, y_train)\n",
    "    return print_score(model)"
   ]
  },
  {
   "cell_type": "code",
   "execution_count": 584,
   "metadata": {},
   "outputs": [
    {
     "name": "stdout",
     "output_type": "stream",
     "text": [
      "\n",
      "Root Mean Squared Error of Predicted and Actual in on Training Set: 145.83969989344394\n",
      "Root Mean Squared Error of Predicted and Actual in Validation Set: 340.3246110284922\n",
      "R Squared score using Training Set: 0.9947474296442259\n",
      "R Squared score using Validation Set: 0.9722260843638689\n"
     ]
    }
   ],
   "source": [
    "traffic_model(df)"
   ]
  }
 ],
 "metadata": {
  "kernelspec": {
   "display_name": "Python 3",
   "language": "python",
   "name": "python3"
  },
  "language_info": {
   "codemirror_mode": {
    "name": "ipython",
    "version": 3
   },
   "file_extension": ".py",
   "mimetype": "text/x-python",
   "name": "python",
   "nbconvert_exporter": "python",
   "pygments_lexer": "ipython3",
   "version": "3.7.3"
  }
 },
 "nbformat": 4,
 "nbformat_minor": 2
}
